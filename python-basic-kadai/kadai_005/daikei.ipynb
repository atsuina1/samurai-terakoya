{
  "nbformat": 4,
  "nbformat_minor": 0,
  "metadata": {
    "colab": {
      "provenance": []
    },
    "kernelspec": {
      "name": "python3",
      "display_name": "Python 3"
    },
    "language_info": {
      "name": "python"
    }
  },
  "cells": [
    {
      "cell_type": "code",
      "execution_count": 1,
      "metadata": {
        "colab": {
          "base_uri": "https://localhost:8080/"
        },
        "id": "uziX1pEzHpmi",
        "outputId": "42e86457-a8d4-483f-afb0-8abe9e68b5be"
      },
      "outputs": [
        {
          "output_type": "stream",
          "name": "stdout",
          "text": [
            "台形の面積は 75.0 平方センチメートルです。\n"
          ]
        }
      ],
      "source": [
        "# 台形の寸法\n",
        "upper_base = 10  # 上辺 (cm)\n",
        "lower_base = 20  # 下辺 (cm)\n",
        "height = 5       # 高さ (cm)\n",
        "\n",
        "# 面積を計算\n",
        "area = (upper_base + lower_base) * height / 2\n",
        "\n",
        "# 結果を表示\n",
        "print(f\"台形の面積は {area} 平方センチメートルです。\")"
      ]
    },
    {
      "cell_type": "code",
      "source": [],
      "metadata": {
        "id": "brKCGkRYJI5A"
      },
      "execution_count": null,
      "outputs": []
    }
  ]
}